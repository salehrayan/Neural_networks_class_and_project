{
  "cells": [
    {
      "cell_type": "code",
      "execution_count": null,
      "metadata": {
        "id": "Xdf4El-gawWQ"
      },
      "outputs": [],
      "source": [
        "import tensorflow as tf\n",
        "from keras.datasets import imdb\n",
        "from keras.preprocessing import sequence\n",
        "from keras.models import Sequential\n",
        "from keras import layers\n",
        "from keras import regularizers\n",
        "from keras import callbacks\n",
        "from keras.optimizers import Adam\n",
        "\n"
      ]
    },
    {
      "cell_type": "code",
      "execution_count": null,
      "metadata": {
        "colab": {
          "base_uri": "https://localhost:8080/"
        },
        "id": "nV79_AxobA8c",
        "outputId": "301e9e1f-d571-4e55-ea7f-df867945c8dd"
      },
      "outputs": [
        {
          "name": "stdout",
          "output_type": "stream",
          "text": [
            "Downloading data from https://storage.googleapis.com/tensorflow/tf-keras-datasets/imdb.npz\n",
            "17464789/17464789 [==============================] - 1s 0us/step\n",
            "25000 train sequences\n",
            "25000 test sequences\n",
            "x_train shape: (25000, 500)\n",
            "x_test shape: (25000, 500)\n"
          ]
        }
      ],
      "source": [
        "max_features = 10000\n",
        "max_len = 500\n",
        "\n",
        "\n",
        "(x_train, y_train), (x_test, y_test) = imdb.load_data(num_words=max_features)\n",
        "print(len(x_train), 'train sequences')\n",
        "print(len(x_test), 'test sequences')\n",
        "\n",
        "x_train = sequence.pad_sequences(x_train, maxlen=max_len)\n",
        "x_test = sequence.pad_sequences(x_test, maxlen=max_len)\n",
        "print('x_train shape:', x_train.shape)\n",
        "print('x_test shape:', x_test.shape)"
      ]
    },
    {
      "cell_type": "code",
      "execution_count": null,
      "metadata": {
        "colab": {
          "background_save": true,
          "base_uri": "https://localhost:8080/"
        },
        "id": "cl2ZQtfzbGBr",
        "outputId": "13cbc968-126f-4a62-8428-f66625d0b313"
      },
      "outputs": [
        {
          "name": "stdout",
          "output_type": "stream",
          "text": [
            "Model: \"sequential\"\n",
            "_________________________________________________________________\n",
            " Layer (type)                Output Shape              Param #   \n",
            "=================================================================\n",
            " embedding (Embedding)       (None, 500, 128)          1280000   \n",
            "                                                                 \n",
            " lstm (LSTM)                 (None, 64)                49408     \n",
            "                                                                 \n",
            " dropout (Dropout)           (None, 64)                0         \n",
            "                                                                 \n",
            " dense (Dense)               (None, 1)                 65        \n",
            "                                                                 \n",
            "=================================================================\n",
            "Total params: 1329473 (5.07 MB)\n",
            "Trainable params: 1329473 (5.07 MB)\n",
            "Non-trainable params: 0 (0.00 Byte)\n",
            "_________________________________________________________________\n",
            "Epoch 1/10\n",
            "196/196 [==============================] - 294s 1s/step - loss: 0.4724 - accuracy: 0.7736 - val_loss: 0.3538 - val_accuracy: 0.8513\n",
            "Epoch 2/10\n",
            "196/196 [==============================] - 296s 2s/step - loss: 0.2484 - accuracy: 0.9046 - val_loss: 0.3104 - val_accuracy: 0.8690\n",
            "Epoch 3/10\n",
            "196/196 [==============================] - 287s 1s/step - loss: 0.1804 - accuracy: 0.9327 - val_loss: 0.3192 - val_accuracy: 0.8738\n",
            "Epoch 4/10\n",
            "196/196 [==============================] - 287s 1s/step - loss: 0.1431 - accuracy: 0.9484 - val_loss: 0.4011 - val_accuracy: 0.8544\n",
            "Epoch 5/10\n",
            "196/196 [==============================] - 284s 1s/step - loss: 0.1289 - accuracy: 0.9565 - val_loss: 0.4224 - val_accuracy: 0.8666\n",
            "Epoch 6/10\n",
            "196/196 [==============================] - 288s 1s/step - loss: 0.1030 - accuracy: 0.9643 - val_loss: 0.4322 - val_accuracy: 0.8525\n",
            "Epoch 7/10\n",
            "196/196 [==============================] - 289s 1s/step - loss: 0.0906 - accuracy: 0.9692 - val_loss: 0.5686 - val_accuracy: 0.8582\n",
            "Epoch 8/10\n",
            "196/196 [==============================] - 290s 1s/step - loss: 0.0641 - accuracy: 0.9797 - val_loss: 0.5677 - val_accuracy: 0.8590\n",
            "Epoch 9/10\n",
            "196/196 [==============================] - 289s 1s/step - loss: 0.0560 - accuracy: 0.9819 - val_loss: 0.4759 - val_accuracy: 0.8571\n",
            "Epoch 10/10\n",
            "196/196 [==============================] - 285s 1s/step - loss: 0.0449 - accuracy: 0.9861 - val_loss: 0.5667 - val_accuracy: 0.8558\n"
          ]
        }
      ],
      "source": [
        "model = Sequential()\n",
        "model.add(layers.Embedding(max_features, 128, input_length=max_len))\n",
        "model.add(layers.LSTM(64))\n",
        "model.add(layers.Dropout(0.2))\n",
        "model.add(layers.Dense(1, activation='sigmoid'))\n",
        "\n",
        "model.summary()\n",
        "\n",
        "model.compile(optimizer=Adam(),\n",
        "              loss='binary_crossentropy',\n",
        "              metrics=['accuracy'])\n",
        "\n",
        "history = model.fit(x_train, y_train,\n",
        "                    epochs=10,\n",
        "                    batch_size=128,\n",
        "                    validation_data=(x_test, y_test))"
      ]
    }
  ],
  "metadata": {
    "colab": {
      "provenance": []
    },
    "kernelspec": {
      "display_name": "Python 3",
      "name": "python3"
    },
    "language_info": {
      "name": "python"
    }
  },
  "nbformat": 4,
  "nbformat_minor": 0
}