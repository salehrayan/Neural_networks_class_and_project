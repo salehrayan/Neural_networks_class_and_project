{
  "nbformat": 4,
  "nbformat_minor": 0,
  "metadata": {
    "colab": {
      "provenance": []
    },
    "kernelspec": {
      "name": "python3",
      "display_name": "Python 3"
    },
    "accelerator": "GPU"
  },
  "cells": [
    {
      "cell_type": "code",
      "metadata": {
        "id": "PSpAkUMcEZZM"
      },
      "source": [
        "from tensorflow import keras\n",
        "import numpy as np\n",
        "from matplotlib import pyplot as plt"
      ],
      "execution_count": null,
      "outputs": []
    },
    {
      "cell_type": "code",
      "metadata": {
        "id": "T8tUYEh2EgOF",
        "colab": {
          "base_uri": "https://localhost:8080/"
        },
        "outputId": "8daaebd4-58bf-4aaa-8fff-029925a74406"
      },
      "source": [
        "# load dataset\n",
        "(x_train, y_train), (x_test, y_test) = keras.datasets.cifar10.load_data()"
      ],
      "execution_count": null,
      "outputs": [
        {
          "output_type": "stream",
          "name": "stdout",
          "text": [
            "Downloading data from https://www.cs.toronto.edu/~kriz/cifar-10-python.tar.gz\n",
            "170498071/170498071 [==============================] - 6s 0us/step\n"
          ]
        }
      ]
    },
    {
      "cell_type": "code",
      "metadata": {
        "id": "oezcbGliE8TC"
      },
      "source": [
        "# Convert class vectors to binary class matrices.\n",
        "num_classes = 10\n",
        "y_train = keras.utils.to_categorical(y_train, num_classes)\n",
        "y_test = keras.utils.to_categorical(y_test, num_classes)"
      ],
      "execution_count": null,
      "outputs": []
    },
    {
      "cell_type": "code",
      "metadata": {
        "id": "ZB7STerCEUiy",
        "colab": {
          "base_uri": "https://localhost:8080/"
        },
        "outputId": "9c6dadef-25f1-493f-f82d-4dce8c3bd7eb"
      },
      "source": [
        "from keras import models, layers\n",
        "\n",
        "model = models.Sequential()\n",
        "model.add(layers.Input(shape=(32, 32, 3)))\n",
        "model.add(layers.Conv2D(filters=128, kernel_size=(3, 3), activation='elu'))\n",
        "model.add(layers.Conv2D(filters=128, kernel_size=(3, 3), activation='elu'))\n",
        "model.add(layers.MaxPooling2D())\n",
        "model.add(layers.Conv2D(filters=128, kernel_size=(3, 3), activation='elu'))\n",
        "model.add(layers.Conv2D(filters=128, kernel_size=(3, 3), activation='elu'))\n",
        "model.add(layers.MaxPooling2D())\n",
        "model.add(layers.Flatten())\n",
        "model.add(layers.Dense(units=512, activation='elu'))\n",
        "model.add(layers.Dense(units=10, activation='softmax'))\n",
        "\n",
        "model.summary()"
      ],
      "execution_count": null,
      "outputs": [
        {
          "output_type": "stream",
          "name": "stdout",
          "text": [
            "Model: \"sequential\"\n",
            "_________________________________________________________________\n",
            " Layer (type)                Output Shape              Param #   \n",
            "=================================================================\n",
            " conv2d (Conv2D)             (None, 30, 30, 128)       3584      \n",
            "                                                                 \n",
            " conv2d_1 (Conv2D)           (None, 28, 28, 128)       147584    \n",
            "                                                                 \n",
            " max_pooling2d (MaxPooling2  (None, 14, 14, 128)       0         \n",
            " D)                                                              \n",
            "                                                                 \n",
            " conv2d_2 (Conv2D)           (None, 12, 12, 128)       147584    \n",
            "                                                                 \n",
            " conv2d_3 (Conv2D)           (None, 10, 10, 128)       147584    \n",
            "                                                                 \n",
            " max_pooling2d_1 (MaxPoolin  (None, 5, 5, 128)         0         \n",
            " g2D)                                                            \n",
            "                                                                 \n",
            " flatten (Flatten)           (None, 3200)              0         \n",
            "                                                                 \n",
            " dense (Dense)               (None, 512)               1638912   \n",
            "                                                                 \n",
            " dense_1 (Dense)             (None, 10)                5130      \n",
            "                                                                 \n",
            "=================================================================\n",
            "Total params: 2090378 (7.97 MB)\n",
            "Trainable params: 2090378 (7.97 MB)\n",
            "Non-trainable params: 0 (0.00 Byte)\n",
            "_________________________________________________________________\n"
          ]
        }
      ]
    },
    {
      "cell_type": "code",
      "metadata": {
        "id": "NVa9p5spKjP7",
        "colab": {
          "base_uri": "https://localhost:8080/"
        },
        "outputId": "af03e19b-7ecb-4af6-a342-060002c7de76"
      },
      "source": [
        "model.compile(loss='categorical_crossentropy', optimizer='adam', metrics=['accuracy'])\n",
        "\n",
        "history = model.fit(x_train, y_train,\n",
        "                    batch_size=64,\n",
        "                    epochs=50,\n",
        "                    validation_data=(x_test, y_test))"
      ],
      "execution_count": null,
      "outputs": [
        {
          "output_type": "stream",
          "name": "stdout",
          "text": [
            "Epoch 1/50\n",
            "782/782 [==============================] - 19s 18ms/step - loss: 2.1711 - accuracy: 0.4190 - val_loss: 1.1794 - val_accuracy: 0.5804\n",
            "Epoch 2/50\n",
            "782/782 [==============================] - 13s 16ms/step - loss: 1.0833 - accuracy: 0.6182 - val_loss: 0.9996 - val_accuracy: 0.6394\n",
            "Epoch 3/50\n",
            "782/782 [==============================] - 13s 16ms/step - loss: 0.8821 - accuracy: 0.6916 - val_loss: 0.9048 - val_accuracy: 0.6893\n",
            "Epoch 4/50\n",
            "782/782 [==============================] - 13s 17ms/step - loss: 0.7452 - accuracy: 0.7377 - val_loss: 1.0039 - val_accuracy: 0.6738\n",
            "Epoch 5/50\n",
            "782/782 [==============================] - 13s 17ms/step - loss: 0.6486 - accuracy: 0.7748 - val_loss: 0.8565 - val_accuracy: 0.7136\n",
            "Epoch 6/50\n",
            "782/782 [==============================] - 13s 16ms/step - loss: 0.5713 - accuracy: 0.8009 - val_loss: 0.9452 - val_accuracy: 0.7239\n",
            "Epoch 7/50\n",
            "782/782 [==============================] - 12s 16ms/step - loss: 0.4992 - accuracy: 0.8262 - val_loss: 1.0410 - val_accuracy: 0.7041\n",
            "Epoch 8/50\n",
            "782/782 [==============================] - 13s 17ms/step - loss: 0.4558 - accuracy: 0.8434 - val_loss: 1.1102 - val_accuracy: 0.7119\n",
            "Epoch 9/50\n",
            "782/782 [==============================] - 13s 17ms/step - loss: 0.4059 - accuracy: 0.8642 - val_loss: 1.0566 - val_accuracy: 0.7149\n",
            "Epoch 10/50\n",
            "782/782 [==============================] - 13s 16ms/step - loss: 0.3624 - accuracy: 0.8796 - val_loss: 1.1490 - val_accuracy: 0.7173\n",
            "Epoch 11/50\n",
            "782/782 [==============================] - 13s 16ms/step - loss: 0.3357 - accuracy: 0.8900 - val_loss: 1.3520 - val_accuracy: 0.6993\n",
            "Epoch 12/50\n",
            "782/782 [==============================] - 12s 16ms/step - loss: 0.3172 - accuracy: 0.9002 - val_loss: 1.5040 - val_accuracy: 0.7036\n",
            "Epoch 13/50\n",
            "782/782 [==============================] - 13s 17ms/step - loss: 0.3212 - accuracy: 0.9005 - val_loss: 1.4866 - val_accuracy: 0.7000\n",
            "Epoch 14/50\n",
            "782/782 [==============================] - 12s 16ms/step - loss: 0.2791 - accuracy: 0.9144 - val_loss: 1.5398 - val_accuracy: 0.7197\n",
            "Epoch 15/50\n",
            "782/782 [==============================] - 13s 16ms/step - loss: 0.2830 - accuracy: 0.9143 - val_loss: 1.7817 - val_accuracy: 0.6970\n",
            "Epoch 16/50\n",
            "782/782 [==============================] - 13s 16ms/step - loss: 0.6957 - accuracy: 0.8399 - val_loss: 1.7265 - val_accuracy: 0.5204\n",
            "Epoch 17/50\n",
            "782/782 [==============================] - 12s 16ms/step - loss: 0.7571 - accuracy: 0.7676 - val_loss: 1.6674 - val_accuracy: 0.6332\n",
            "Epoch 18/50\n",
            "782/782 [==============================] - 13s 16ms/step - loss: 0.4058 - accuracy: 0.8736 - val_loss: 1.6365 - val_accuracy: 0.6848\n",
            "Epoch 19/50\n",
            "782/782 [==============================] - 13s 16ms/step - loss: 0.3388 - accuracy: 0.8990 - val_loss: 1.6965 - val_accuracy: 0.6881\n",
            "Epoch 20/50\n",
            "782/782 [==============================] - 12s 16ms/step - loss: 0.2889 - accuracy: 0.9149 - val_loss: 1.7182 - val_accuracy: 0.6877\n",
            "Epoch 21/50\n",
            "782/782 [==============================] - 13s 16ms/step - loss: 0.2554 - accuracy: 0.9257 - val_loss: 1.9610 - val_accuracy: 0.6966\n",
            "Epoch 22/50\n",
            "782/782 [==============================] - 13s 16ms/step - loss: 0.2494 - accuracy: 0.9305 - val_loss: 2.0840 - val_accuracy: 0.6977\n",
            "Epoch 23/50\n",
            "782/782 [==============================] - 13s 16ms/step - loss: 0.2327 - accuracy: 0.9370 - val_loss: 2.2051 - val_accuracy: 0.7044\n",
            "Epoch 24/50\n",
            "782/782 [==============================] - 12s 16ms/step - loss: 0.2285 - accuracy: 0.9385 - val_loss: 2.3225 - val_accuracy: 0.6866\n",
            "Epoch 25/50\n",
            "782/782 [==============================] - 13s 16ms/step - loss: 0.2445 - accuracy: 0.9364 - val_loss: 2.4430 - val_accuracy: 0.6962\n",
            "Epoch 26/50\n",
            "782/782 [==============================] - 13s 16ms/step - loss: 0.2343 - accuracy: 0.9405 - val_loss: 2.3982 - val_accuracy: 0.7022\n",
            "Epoch 27/50\n",
            "782/782 [==============================] - 13s 16ms/step - loss: 0.2360 - accuracy: 0.9402 - val_loss: 2.4942 - val_accuracy: 0.7000\n",
            "Epoch 28/50\n",
            "782/782 [==============================] - 13s 16ms/step - loss: 0.2453 - accuracy: 0.9382 - val_loss: 2.5517 - val_accuracy: 0.6736\n",
            "Epoch 29/50\n",
            "782/782 [==============================] - 13s 16ms/step - loss: 0.2311 - accuracy: 0.9435 - val_loss: 2.5306 - val_accuracy: 0.6944\n",
            "Epoch 30/50\n",
            "782/782 [==============================] - 13s 16ms/step - loss: 0.2689 - accuracy: 0.9367 - val_loss: 2.4310 - val_accuracy: 0.6968\n",
            "Epoch 31/50\n",
            "782/782 [==============================] - 13s 17ms/step - loss: 0.2942 - accuracy: 0.9455 - val_loss: 9.7044 - val_accuracy: 0.6542\n",
            "Epoch 32/50\n",
            "782/782 [==============================] - 13s 17ms/step - loss: 1.1322 - accuracy: 0.8090 - val_loss: 2.1578 - val_accuracy: 0.5931\n",
            "Epoch 33/50\n",
            "782/782 [==============================] - 12s 16ms/step - loss: 0.4862 - accuracy: 0.8743 - val_loss: 2.2129 - val_accuracy: 0.6890\n",
            "Epoch 34/50\n",
            "782/782 [==============================] - 13s 17ms/step - loss: 0.2395 - accuracy: 0.9420 - val_loss: 2.4589 - val_accuracy: 0.6955\n",
            "Epoch 35/50\n",
            "782/782 [==============================] - 13s 16ms/step - loss: 0.2089 - accuracy: 0.9507 - val_loss: 2.9472 - val_accuracy: 0.7047\n",
            "Epoch 36/50\n",
            "782/782 [==============================] - 13s 16ms/step - loss: 0.2109 - accuracy: 0.9522 - val_loss: 3.0020 - val_accuracy: 0.6950\n",
            "Epoch 37/50\n",
            "782/782 [==============================] - 13s 16ms/step - loss: 0.2316 - accuracy: 0.9492 - val_loss: 3.0227 - val_accuracy: 0.6929\n",
            "Epoch 38/50\n",
            "782/782 [==============================] - 13s 16ms/step - loss: 0.2195 - accuracy: 0.9505 - val_loss: 3.2217 - val_accuracy: 0.6883\n",
            "Epoch 39/50\n",
            "782/782 [==============================] - 13s 16ms/step - loss: 0.2350 - accuracy: 0.9499 - val_loss: 3.1863 - val_accuracy: 0.6824\n",
            "Epoch 40/50\n",
            "782/782 [==============================] - 13s 17ms/step - loss: 0.2310 - accuracy: 0.9491 - val_loss: 3.5864 - val_accuracy: 0.6940\n",
            "Epoch 41/50\n",
            "782/782 [==============================] - 13s 16ms/step - loss: 0.2516 - accuracy: 0.9488 - val_loss: 2.9211 - val_accuracy: 0.6839\n",
            "Epoch 42/50\n",
            "782/782 [==============================] - 13s 17ms/step - loss: 0.2251 - accuracy: 0.9531 - val_loss: 3.2481 - val_accuracy: 0.6955\n",
            "Epoch 43/50\n",
            "782/782 [==============================] - 13s 16ms/step - loss: 0.2482 - accuracy: 0.9490 - val_loss: 3.7516 - val_accuracy: 0.6751\n",
            "Epoch 44/50\n",
            "782/782 [==============================] - 13s 16ms/step - loss: 0.2222 - accuracy: 0.9564 - val_loss: 3.1506 - val_accuracy: 0.6899\n",
            "Epoch 45/50\n",
            "782/782 [==============================] - 13s 16ms/step - loss: 0.2430 - accuracy: 0.9526 - val_loss: 3.1417 - val_accuracy: 0.6781\n",
            "Epoch 46/50\n",
            "782/782 [==============================] - 13s 17ms/step - loss: 0.2233 - accuracy: 0.9555 - val_loss: 3.2611 - val_accuracy: 0.6960\n",
            "Epoch 47/50\n",
            "782/782 [==============================] - 13s 16ms/step - loss: 0.7733 - accuracy: 0.8629 - val_loss: 2.0728 - val_accuracy: 0.3771\n",
            "Epoch 48/50\n",
            "782/782 [==============================] - 12s 16ms/step - loss: 0.7587 - accuracy: 0.8094 - val_loss: 3.1096 - val_accuracy: 0.6717\n",
            "Epoch 49/50\n",
            "782/782 [==============================] - 13s 16ms/step - loss: 0.2932 - accuracy: 0.9379 - val_loss: 2.9019 - val_accuracy: 0.6949\n",
            "Epoch 50/50\n",
            "782/782 [==============================] - 13s 16ms/step - loss: 0.2187 - accuracy: 0.9536 - val_loss: 4.3329 - val_accuracy: 0.6992\n"
          ]
        }
      ]
    }
  ]
}